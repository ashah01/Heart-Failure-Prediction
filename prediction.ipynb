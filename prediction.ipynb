{
 "cells": [
  {
   "cell_type": "code",
   "execution_count": null,
   "id": "75e208c4",
   "metadata": {},
   "outputs": [],
   "source": [
    "import pandas as pd\n",
    "import numpy as np\n",
    "from sklearn.preprocessing import MinMaxScaler\n",
    "from sklearn.model_selection import train_test_split\n",
    "import torch"
   ]
  },
  {
   "cell_type": "code",
   "execution_count": null,
   "id": "2736fc18",
   "metadata": {},
   "outputs": [],
   "source": [
    "dataset = pd.read_csv(\"heart.csv\")\n",
    "dataset.head()"
   ]
  },
  {
   "cell_type": "code",
   "execution_count": null,
   "id": "5a03fef2",
   "metadata": {},
   "outputs": [],
   "source": [
    "dataset['ChestPainType'].unique(), dataset['RestingECG'].unique(), dataset['ExerciseAngina'].unique(), dataset['ST_Slope'].unique()"
   ]
  },
  {
   "cell_type": "code",
   "execution_count": null,
   "id": "c10415f5",
   "metadata": {},
   "outputs": [],
   "source": [
    "dataset = pd.get_dummies(dataset, columns=['Sex', 'ChestPainType', 'RestingECG', 'ST_Slope'])"
   ]
  },
  {
   "cell_type": "code",
   "execution_count": null,
   "metadata": {},
   "outputs": [],
   "source": [
    "dataset = pd.concat([pd.Series(np.where(dataset['ExerciseAngina'].to_numpy() == 'Y', 1, 0), dataset.index).rename('Angina'), dataset], axis=1).drop('ExerciseAngina', axis=1)"
   ]
  },
  {
   "cell_type": "code",
   "execution_count": null,
   "metadata": {},
   "outputs": [],
   "source": [
    "train_dataset = dataset.drop('HeartDisease', axis=1)\n",
    "y = dataset['HeartDisease']"
   ]
  },
  {
   "cell_type": "code",
   "execution_count": null,
   "metadata": {},
   "outputs": [],
   "source": [
    "scaler = MinMaxScaler()\n",
    "X = pd.DataFrame(scaler.fit_transform(train_dataset), columns=train_dataset.columns)"
   ]
  },
  {
   "cell_type": "code",
   "execution_count": null,
   "metadata": {},
   "outputs": [],
   "source": [
    "X_train, X_validate, y_train, y_validate = train_test_split(X, y, test_size=0.1)\n",
    "X_train.shape, X_validate.shape"
   ]
  },
  {
   "cell_type": "code",
   "execution_count": null,
   "metadata": {},
   "outputs": [],
   "source": [
    "train_features = torch.tensor(X_train.to_numpy())\n",
    "train_labels = torch.tensor(y_train.to_numpy())\n",
    "\n",
    "validation_features = torch.tensor(X_validate.to_numpy())\n",
    "validation_labels = torch.tensor(y_validate.to_numpy())"
   ]
  },
  {
   "cell_type": "code",
   "execution_count": null,
   "metadata": {},
   "outputs": [],
   "source": [
    "n_features = train_features.shape[1]\n",
    "model = torch.nn.Sequential(torch.nn.Linear(n_features, 50),\n",
    "                                            torch.nn.ReLU(),\n",
    "                                            torch.nn.Linear(50, 1),\n",
    "                                            torch.nn.Sigmoid())"
   ]
  },
  {
   "cell_type": "code",
   "execution_count": null,
   "metadata": {},
   "outputs": [],
   "source": [
    "criterion = torch.nn.BCELoss()\n",
    "optimizer = torch.optim.Adam(model.parameters(), lr=0.0001, weight_decay=0.01)"
   ]
  },
  {
   "cell_type": "code",
   "execution_count": null,
   "metadata": {},
   "outputs": [],
   "source": [
    "n_batches = 2\n",
    "train_features_batched = train_features.reshape(n_batches,\n",
    "                                               int(train_features.shape[0]/n_batches),\n",
    "                                               train_features.shape[1])\n",
    "train_labels_batched = train_labels.reshape(n_batches,\n",
    "                                            int(train_labels.shape[0]/n_batches))"
   ]
  },
  {
   "cell_type": "code",
   "execution_count": null,
   "metadata": {},
   "outputs": [],
   "source": [
    "n_epochs = 2000\n",
    "loss_list = []\n",
    "validate_loss_list = []\n",
    " \n",
    "for epoch in range(n_epochs):\n",
    "    for batch_idx in range(n_batches):\n",
    "        optimizer.zero_grad()\n",
    "         \n",
    "        outputs = model(train_features_batched[batch_idx].float())\n",
    "         \n",
    "     \n",
    "        loss = criterion(outputs.flatten().float(),\n",
    "                         train_labels_batched[batch_idx].float())\n",
    "     \n",
    "         \n",
    "        loss.backward()\n",
    "         \n",
    "        optimizer.step()\n",
    "         \n",
    "    outputs = model(train_features.float())\n",
    "     \n",
    "    validation_outputs = model(validation_features.float())\n",
    "     \n",
    "         \n",
    "    loss = criterion(outputs.flatten().float(),\n",
    "                     train_labels.float())\n",
    "     \n",
    "    validate_loss = criterion(validation_outputs.flatten().float(),\n",
    "                              validation_labels.float())\n",
    "     \n",
    "    loss_list.append(loss.item())\n",
    "     \n",
    "    validate_loss_list.append(validate_loss.item())\n",
    " \n",
    "print('Finished Training')"
   ]
  },
  {
   "cell_type": "code",
   "execution_count": null,
   "metadata": {},
   "outputs": [],
   "source": [
    "import matplotlib.pyplot as plt\n",
    "plt.plot(loss_list, linewidth=3)\n",
    "plt.plot(validate_loss_list, linewidth=3)\n",
    "plt.legend((\"Training Loss\", \"Validation Loss\"))\n",
    "plt.xlabel(\"Epoch\")\n",
    "plt.ylabel(\"BCE Loss\")\n"
   ]
  }
 ],
 "metadata": {
  "interpreter": {
   "hash": "aee8b7b246df8f9039afb4144a1f6fd8d2ca17a180786b69acc140d282b71a49"
  },
  "kernelspec": {
   "display_name": "Python 3.9.7 64-bit",
   "name": "python3"
  },
  "language_info": {
   "codemirror_mode": {
    "name": "ipython",
    "version": 3
   },
   "file_extension": ".py",
   "mimetype": "text/x-python",
   "name": "python",
   "nbconvert_exporter": "python",
   "pygments_lexer": "ipython3",
   "version": "3.9.7"
  }
 },
 "nbformat": 4,
 "nbformat_minor": 5
}
